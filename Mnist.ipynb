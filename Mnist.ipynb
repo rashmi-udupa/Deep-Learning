{
  "nbformat": 4,
  "nbformat_minor": 0,
  "metadata": {
    "colab": {
      "name": "Mnist.ipynb",
      "provenance": []
    },
    "kernelspec": {
      "name": "python3",
      "display_name": "Python 3"
    }
  },
  "cells": [
    {
      "cell_type": "code",
      "metadata": {
        "id": "902tubCnB7Lh"
      },
      "source": [
        "import numpy as np\n",
        "import matplotlib.pyplot as plt\n",
        "import pandas as pd\n",
        "import os\n",
        "import tensorflow as tf\n",
        "import seaborn as sns\n"
      ],
      "execution_count": null,
      "outputs": []
    },
    {
      "cell_type": "code",
      "metadata": {
        "colab": {
          "base_uri": "https://localhost:8080/"
        },
        "id": "nqLEslhoCIjD",
        "outputId": "ed098a56-6feb-4404-a18e-bded81a2d974"
      },
      "source": [
        "mnist=tf.keras.datasets.mnist\n",
        "(train_x,train_y),(test_x,test_y)=mnist.load_data()"
      ],
      "execution_count": null,
      "outputs": [
        {
          "output_type": "stream",
          "text": [
            "Downloading data from https://storage.googleapis.com/tensorflow/tf-keras-datasets/mnist.npz\n",
            "11493376/11490434 [==============================] - 2s 0us/step\n"
          ],
          "name": "stdout"
        }
      ]
    },
    {
      "cell_type": "code",
      "metadata": {
        "id": "gJEbadbCCWWh"
      },
      "source": [
        "# create a validation data set from the full training data \n",
        "# Scale the data between 0 to 1 by dividing it by 255. as its an unsigned data between 0-255 range\n",
        "\n",
        "x_cv,train_x1=train_x[:5000]/255,train_x[5000:]/255\n",
        "y_cv,train_y1=train_y[:5000],train_y[5000:]\n",
        "\n",
        "# Scale the test set as well\n",
        "test_x=test_x/255"
      ],
      "execution_count": null,
      "outputs": []
    },
    {
      "cell_type": "code",
      "metadata": {
        "id": "UdTxCluyCdtx"
      },
      "source": [
        "Layers=[tf.keras.layers.Flatten(input_shape=(28,28), name=\"inputLayer\"),\n",
        "       tf.keras.layers.Dense(300,activation='relu',name='hiddenlayer1'),\n",
        "       tf.keras.layers.Dense(100,activation='relu',name='hiddenlayer2'),\n",
        "       tf.keras.layers.Dense(10,activation='sigmoid',name='outerlayer')]\n",
        "\n",
        "model=tf.keras.models.Sequential(Layers)"
      ],
      "execution_count": null,
      "outputs": []
    },
    {
      "cell_type": "code",
      "metadata": {
        "colab": {
          "base_uri": "https://localhost:8080/"
        },
        "id": "6da1KzIGClQE",
        "outputId": "6a7c873c-40b6-48c8-c807-5a8193bd3810"
      },
      "source": [
        "model.summary()"
      ],
      "execution_count": null,
      "outputs": [
        {
          "output_type": "stream",
          "text": [
            "Model: \"sequential_1\"\n",
            "_________________________________________________________________\n",
            "Layer (type)                 Output Shape              Param #   \n",
            "=================================================================\n",
            "inputLayer (Flatten)         (None, 784)               0         \n",
            "_________________________________________________________________\n",
            "hiddenlayer1 (Dense)         (None, 300)               235500    \n",
            "_________________________________________________________________\n",
            "hiddenlayer2 (Dense)         (None, 100)               30100     \n",
            "_________________________________________________________________\n",
            "outerlayer (Dense)           (None, 10)                1010      \n",
            "=================================================================\n",
            "Total params: 266,610\n",
            "Trainable params: 266,610\n",
            "Non-trainable params: 0\n",
            "_________________________________________________________________\n"
          ],
          "name": "stdout"
        }
      ]
    },
    {
      "cell_type": "code",
      "metadata": {
        "id": "DSKlqmXDCo3w"
      },
      "source": [
        "loss_function=\"sparse_categorical_crossentropy\"\n",
        "optimizer=\"SGD\"\n",
        "metrics=[\"accuracy\"]\n",
        "\n",
        "model.compile(loss=loss_function, optimizer=optimizer, metrics=metrics)"
      ],
      "execution_count": null,
      "outputs": []
    },
    {
      "cell_type": "code",
      "metadata": {
        "colab": {
          "base_uri": "https://localhost:8080/"
        },
        "id": "wLEASO7SCvsf",
        "outputId": "10089f3c-a41f-4e07-f520-d6167ef106ab"
      },
      "source": [
        "EPOCHS=30\n",
        "\n",
        "#VALIDATION_SET=(x_cv,y_cv)\n",
        "\n",
        "history=model.fit(train_x,train_y,epochs=EPOCHS,validation_split=0.20)"
      ],
      "execution_count": null,
      "outputs": [
        {
          "output_type": "stream",
          "text": [
            "Epoch 1/30\n",
            "1500/1500 [==============================] - 4s 3ms/step - loss: 5.4066 - accuracy: 0.0992 - val_loss: 5.4898 - val_accuracy: 0.0995\n",
            "Epoch 2/30\n",
            "1500/1500 [==============================] - 4s 3ms/step - loss: 5.5145 - accuracy: 0.0985 - val_loss: 5.4898 - val_accuracy: 0.0995\n",
            "Epoch 3/30\n",
            "1500/1500 [==============================] - 4s 2ms/step - loss: 5.3893 - accuracy: 0.0985 - val_loss: 5.4898 - val_accuracy: 0.0995\n",
            "Epoch 4/30\n",
            "1500/1500 [==============================] - 4s 3ms/step - loss: 5.3893 - accuracy: 0.0985 - val_loss: 5.4898 - val_accuracy: 0.0995\n",
            "Epoch 5/30\n",
            "1500/1500 [==============================] - 4s 3ms/step - loss: 5.3893 - accuracy: 0.0985 - val_loss: 5.4898 - val_accuracy: 0.0995\n",
            "Epoch 6/30\n",
            "1500/1500 [==============================] - 4s 2ms/step - loss: 5.3893 - accuracy: 0.0985 - val_loss: 5.4898 - val_accuracy: 0.0995\n",
            "Epoch 7/30\n",
            "1500/1500 [==============================] - 4s 3ms/step - loss: 5.3893 - accuracy: 0.0985 - val_loss: 5.4898 - val_accuracy: 0.0995\n",
            "Epoch 8/30\n",
            "1500/1500 [==============================] - 4s 3ms/step - loss: 5.3893 - accuracy: 0.0985 - val_loss: 5.4898 - val_accuracy: 0.0995\n",
            "Epoch 9/30\n",
            "1500/1500 [==============================] - 4s 2ms/step - loss: 5.3893 - accuracy: 0.0985 - val_loss: 5.4898 - val_accuracy: 0.0995\n",
            "Epoch 10/30\n",
            "1500/1500 [==============================] - 4s 3ms/step - loss: 5.3893 - accuracy: 0.0985 - val_loss: 5.4898 - val_accuracy: 0.0995\n",
            "Epoch 11/30\n",
            "1500/1500 [==============================] - 4s 3ms/step - loss: 5.3893 - accuracy: 0.0985 - val_loss: 5.4898 - val_accuracy: 0.0995\n",
            "Epoch 12/30\n",
            "1500/1500 [==============================] - 4s 3ms/step - loss: 5.3893 - accuracy: 0.0985 - val_loss: 5.4898 - val_accuracy: 0.0995\n",
            "Epoch 13/30\n",
            "1500/1500 [==============================] - 4s 3ms/step - loss: 5.3893 - accuracy: 0.0985 - val_loss: 5.4898 - val_accuracy: 0.0995\n",
            "Epoch 14/30\n",
            "1500/1500 [==============================] - 4s 2ms/step - loss: 5.3893 - accuracy: 0.0985 - val_loss: 5.4898 - val_accuracy: 0.0995\n",
            "Epoch 15/30\n",
            "1500/1500 [==============================] - 4s 3ms/step - loss: 5.3893 - accuracy: 0.0985 - val_loss: 5.4898 - val_accuracy: 0.0995\n",
            "Epoch 16/30\n",
            "1500/1500 [==============================] - 4s 2ms/step - loss: 5.3893 - accuracy: 0.0985 - val_loss: 5.4898 - val_accuracy: 0.0995\n",
            "Epoch 17/30\n",
            "1500/1500 [==============================] - 4s 2ms/step - loss: 5.3893 - accuracy: 0.0985 - val_loss: 5.4898 - val_accuracy: 0.0995\n",
            "Epoch 18/30\n",
            "1500/1500 [==============================] - 4s 2ms/step - loss: 5.3894 - accuracy: 0.0985 - val_loss: 5.4898 - val_accuracy: 0.0995\n",
            "Epoch 19/30\n",
            "1500/1500 [==============================] - 4s 2ms/step - loss: 5.3893 - accuracy: 0.0985 - val_loss: 5.4898 - val_accuracy: 0.0995\n",
            "Epoch 20/30\n",
            "1500/1500 [==============================] - 4s 3ms/step - loss: 5.3893 - accuracy: 0.0985 - val_loss: 5.4898 - val_accuracy: 0.0995\n",
            "Epoch 21/30\n",
            "1500/1500 [==============================] - 4s 3ms/step - loss: 5.3893 - accuracy: 0.0985 - val_loss: 5.4898 - val_accuracy: 0.0995\n",
            "Epoch 22/30\n",
            "1500/1500 [==============================] - 4s 2ms/step - loss: 5.3893 - accuracy: 0.0985 - val_loss: 5.4898 - val_accuracy: 0.0995\n",
            "Epoch 23/30\n",
            "1500/1500 [==============================] - 4s 3ms/step - loss: 5.3893 - accuracy: 0.0985 - val_loss: 5.4898 - val_accuracy: 0.0995\n",
            "Epoch 24/30\n",
            "1500/1500 [==============================] - 4s 3ms/step - loss: 5.3893 - accuracy: 0.0985 - val_loss: 5.4898 - val_accuracy: 0.0995\n",
            "Epoch 25/30\n",
            "1500/1500 [==============================] - 4s 3ms/step - loss: 5.3893 - accuracy: 0.0985 - val_loss: 5.4898 - val_accuracy: 0.0995\n",
            "Epoch 26/30\n",
            "1500/1500 [==============================] - 4s 3ms/step - loss: 5.3893 - accuracy: 0.0985 - val_loss: 5.4898 - val_accuracy: 0.0995\n",
            "Epoch 27/30\n",
            "1500/1500 [==============================] - 4s 2ms/step - loss: 5.3893 - accuracy: 0.0985 - val_loss: 5.4898 - val_accuracy: 0.0995\n",
            "Epoch 28/30\n",
            "1500/1500 [==============================] - 4s 3ms/step - loss: 5.3893 - accuracy: 0.0985 - val_loss: 5.4898 - val_accuracy: 0.0995\n",
            "Epoch 29/30\n",
            "1500/1500 [==============================] - 4s 2ms/step - loss: 5.3893 - accuracy: 0.0985 - val_loss: 5.4898 - val_accuracy: 0.0995\n",
            "Epoch 30/30\n",
            "1500/1500 [==============================] - 4s 3ms/step - loss: 5.3893 - accuracy: 0.0985 - val_loss: 5.4898 - val_accuracy: 0.0995\n"
          ],
          "name": "stdout"
        }
      ]
    },
    {
      "cell_type": "code",
      "metadata": {
        "colab": {
          "base_uri": "https://localhost:8080/"
        },
        "id": "_f4LCPlqII2o",
        "outputId": "c5ebebd4-f668-41fb-da6a-75ffd9dd38fc"
      },
      "source": [
        "EPOCHS=30\n",
        "\n",
        "VALIDATION_SET=(x_cv,y_cv)\n",
        "\n",
        "history=model.fit(train_x1,train_y1,epochs=EPOCHS,validation_data=VALIDATION_SET)"
      ],
      "execution_count": null,
      "outputs": [
        {
          "output_type": "stream",
          "text": [
            "Epoch 1/30\n",
            "1719/1719 [==============================] - 5s 3ms/step - loss: 1.3634 - accuracy: 0.5124 - val_loss: 0.4144 - val_accuracy: 0.8880\n",
            "Epoch 2/30\n",
            "1719/1719 [==============================] - 5s 3ms/step - loss: 0.3517 - accuracy: 0.9013 - val_loss: 0.2889 - val_accuracy: 0.9190\n",
            "Epoch 3/30\n",
            "1719/1719 [==============================] - 5s 3ms/step - loss: 0.2744 - accuracy: 0.9212 - val_loss: 0.2370 - val_accuracy: 0.9334\n",
            "Epoch 4/30\n",
            "1719/1719 [==============================] - 5s 3ms/step - loss: 0.2317 - accuracy: 0.9344 - val_loss: 0.2080 - val_accuracy: 0.9410\n",
            "Epoch 5/30\n",
            "1719/1719 [==============================] - 5s 3ms/step - loss: 0.2016 - accuracy: 0.9434 - val_loss: 0.1825 - val_accuracy: 0.9516\n",
            "Epoch 6/30\n",
            "1719/1719 [==============================] - 5s 3ms/step - loss: 0.1783 - accuracy: 0.9493 - val_loss: 0.1618 - val_accuracy: 0.9544\n",
            "Epoch 7/30\n",
            "1719/1719 [==============================] - 5s 3ms/step - loss: 0.1584 - accuracy: 0.9553 - val_loss: 0.1489 - val_accuracy: 0.9610\n",
            "Epoch 8/30\n",
            "1719/1719 [==============================] - 5s 3ms/step - loss: 0.1427 - accuracy: 0.9597 - val_loss: 0.1393 - val_accuracy: 0.9610\n",
            "Epoch 9/30\n",
            "1719/1719 [==============================] - 5s 3ms/step - loss: 0.1295 - accuracy: 0.9636 - val_loss: 0.1272 - val_accuracy: 0.9658\n",
            "Epoch 10/30\n",
            "1719/1719 [==============================] - 5s 3ms/step - loss: 0.1182 - accuracy: 0.9665 - val_loss: 0.1220 - val_accuracy: 0.9680\n",
            "Epoch 11/30\n",
            "1719/1719 [==============================] - 5s 3ms/step - loss: 0.1083 - accuracy: 0.9694 - val_loss: 0.1143 - val_accuracy: 0.9692\n",
            "Epoch 12/30\n",
            "1719/1719 [==============================] - 5s 3ms/step - loss: 0.0994 - accuracy: 0.9721 - val_loss: 0.1084 - val_accuracy: 0.9696\n",
            "Epoch 13/30\n",
            "1719/1719 [==============================] - 5s 3ms/step - loss: 0.0924 - accuracy: 0.9743 - val_loss: 0.1025 - val_accuracy: 0.9716\n",
            "Epoch 14/30\n",
            "1719/1719 [==============================] - 5s 3ms/step - loss: 0.0859 - accuracy: 0.9759 - val_loss: 0.0982 - val_accuracy: 0.9726\n",
            "Epoch 15/30\n",
            "1719/1719 [==============================] - 5s 3ms/step - loss: 0.0794 - accuracy: 0.9777 - val_loss: 0.0963 - val_accuracy: 0.9714\n",
            "Epoch 16/30\n",
            "1719/1719 [==============================] - 5s 3ms/step - loss: 0.0744 - accuracy: 0.9797 - val_loss: 0.0907 - val_accuracy: 0.9744\n",
            "Epoch 17/30\n",
            "1719/1719 [==============================] - 5s 3ms/step - loss: 0.0696 - accuracy: 0.9807 - val_loss: 0.0895 - val_accuracy: 0.9742\n",
            "Epoch 18/30\n",
            "1719/1719 [==============================] - 5s 3ms/step - loss: 0.0649 - accuracy: 0.9824 - val_loss: 0.0861 - val_accuracy: 0.9754\n",
            "Epoch 19/30\n",
            "1719/1719 [==============================] - 5s 3ms/step - loss: 0.0611 - accuracy: 0.9830 - val_loss: 0.0857 - val_accuracy: 0.9748\n",
            "Epoch 20/30\n",
            "1719/1719 [==============================] - 5s 3ms/step - loss: 0.0573 - accuracy: 0.9843 - val_loss: 0.0819 - val_accuracy: 0.9764\n",
            "Epoch 21/30\n",
            "1719/1719 [==============================] - 5s 3ms/step - loss: 0.0539 - accuracy: 0.9854 - val_loss: 0.0804 - val_accuracy: 0.9766\n",
            "Epoch 22/30\n",
            "1719/1719 [==============================] - 5s 3ms/step - loss: 0.0509 - accuracy: 0.9867 - val_loss: 0.0780 - val_accuracy: 0.9772\n",
            "Epoch 23/30\n",
            "1719/1719 [==============================] - 5s 3ms/step - loss: 0.0480 - accuracy: 0.9872 - val_loss: 0.0763 - val_accuracy: 0.9768\n",
            "Epoch 24/30\n",
            "1719/1719 [==============================] - 5s 3ms/step - loss: 0.0452 - accuracy: 0.9887 - val_loss: 0.0760 - val_accuracy: 0.9774\n",
            "Epoch 25/30\n",
            "1719/1719 [==============================] - 5s 3ms/step - loss: 0.0427 - accuracy: 0.9890 - val_loss: 0.0772 - val_accuracy: 0.9776\n",
            "Epoch 26/30\n",
            "1719/1719 [==============================] - 5s 3ms/step - loss: 0.0406 - accuracy: 0.9899 - val_loss: 0.0750 - val_accuracy: 0.9782\n",
            "Epoch 27/30\n",
            "1719/1719 [==============================] - 5s 3ms/step - loss: 0.0383 - accuracy: 0.9902 - val_loss: 0.0753 - val_accuracy: 0.9778\n",
            "Epoch 28/30\n",
            "1719/1719 [==============================] - 5s 3ms/step - loss: 0.0364 - accuracy: 0.9911 - val_loss: 0.0757 - val_accuracy: 0.9770\n",
            "Epoch 29/30\n",
            "1719/1719 [==============================] - 5s 3ms/step - loss: 0.0341 - accuracy: 0.9917 - val_loss: 0.0739 - val_accuracy: 0.9784\n",
            "Epoch 30/30\n",
            "1719/1719 [==============================] - 5s 3ms/step - loss: 0.0326 - accuracy: 0.9923 - val_loss: 0.0743 - val_accuracy: 0.9782\n"
          ],
          "name": "stdout"
        }
      ]
    },
    {
      "cell_type": "code",
      "metadata": {
        "colab": {
          "base_uri": "https://localhost:8080/"
        },
        "id": "OCneRGZpCyYf",
        "outputId": "90a71c19-fff3-4b1b-86fe-f0fdd2f5cc5b"
      },
      "source": [
        "model.compile(loss=\"categorical_crossentropy\", optimizer=\"SGD\", metrics=[\"accuracy\"])\n",
        "from keras.utils import to_categorical\n",
        "model.fit(train_x,to_categorical(train_y),epochs=EPOCHS,validation_split=0.20)"
      ],
      "execution_count": null,
      "outputs": [
        {
          "output_type": "stream",
          "text": [
            "Epoch 1/30\n",
            "1500/1500 [==============================] - 4s 3ms/step - loss: 3.5467 - accuracy: 0.0985 - val_loss: 3.5870 - val_accuracy: 0.0995\n",
            "Epoch 2/30\n",
            "1500/1500 [==============================] - 4s 2ms/step - loss: 3.5467 - accuracy: 0.0985 - val_loss: 3.5870 - val_accuracy: 0.0995\n",
            "Epoch 3/30\n",
            "1500/1500 [==============================] - 4s 3ms/step - loss: 3.5467 - accuracy: 0.0985 - val_loss: 3.5870 - val_accuracy: 0.0995\n",
            "Epoch 4/30\n",
            "1500/1500 [==============================] - 4s 3ms/step - loss: 3.5467 - accuracy: 0.0985 - val_loss: 3.5870 - val_accuracy: 0.0995\n",
            "Epoch 5/30\n",
            "1500/1500 [==============================] - 4s 3ms/step - loss: 3.5467 - accuracy: 0.0985 - val_loss: 3.5870 - val_accuracy: 0.0995\n",
            "Epoch 6/30\n",
            "1500/1500 [==============================] - 4s 3ms/step - loss: 3.5467 - accuracy: 0.0985 - val_loss: 3.5870 - val_accuracy: 0.0995\n",
            "Epoch 7/30\n",
            "1500/1500 [==============================] - 4s 2ms/step - loss: 3.5467 - accuracy: 0.0985 - val_loss: 3.5870 - val_accuracy: 0.0995\n",
            "Epoch 8/30\n",
            "1500/1500 [==============================] - 5s 3ms/step - loss: 3.5467 - accuracy: 0.0985 - val_loss: 3.5870 - val_accuracy: 0.0995\n",
            "Epoch 9/30\n",
            "1500/1500 [==============================] - 6s 4ms/step - loss: 3.5467 - accuracy: 0.0985 - val_loss: 3.5870 - val_accuracy: 0.0995\n",
            "Epoch 10/30\n",
            "1500/1500 [==============================] - 4s 3ms/step - loss: 3.5467 - accuracy: 0.0985 - val_loss: 3.5870 - val_accuracy: 0.0995\n",
            "Epoch 11/30\n",
            "1500/1500 [==============================] - 4s 3ms/step - loss: 3.5467 - accuracy: 0.0985 - val_loss: 3.5870 - val_accuracy: 0.0995\n",
            "Epoch 12/30\n",
            "1500/1500 [==============================] - 4s 3ms/step - loss: 3.5467 - accuracy: 0.0985 - val_loss: 3.5870 - val_accuracy: 0.0995\n",
            "Epoch 13/30\n",
            "1500/1500 [==============================] - 4s 3ms/step - loss: 3.5467 - accuracy: 0.0985 - val_loss: 3.5870 - val_accuracy: 0.0995\n",
            "Epoch 14/30\n",
            "1500/1500 [==============================] - 4s 3ms/step - loss: 3.5467 - accuracy: 0.0985 - val_loss: 3.5870 - val_accuracy: 0.0995\n",
            "Epoch 15/30\n",
            "1500/1500 [==============================] - 4s 3ms/step - loss: 3.5467 - accuracy: 0.0985 - val_loss: 3.5870 - val_accuracy: 0.0995\n",
            "Epoch 16/30\n",
            "1500/1500 [==============================] - 4s 3ms/step - loss: 3.5467 - accuracy: 0.0985 - val_loss: 3.5870 - val_accuracy: 0.0995\n",
            "Epoch 17/30\n",
            "1500/1500 [==============================] - 4s 3ms/step - loss: 3.5467 - accuracy: 0.0985 - val_loss: 3.5870 - val_accuracy: 0.0995\n",
            "Epoch 18/30\n",
            "1500/1500 [==============================] - 4s 3ms/step - loss: 3.5467 - accuracy: 0.0985 - val_loss: 3.5870 - val_accuracy: 0.0995\n",
            "Epoch 19/30\n",
            "1500/1500 [==============================] - 4s 3ms/step - loss: 3.5467 - accuracy: 0.0985 - val_loss: 3.5870 - val_accuracy: 0.0995\n",
            "Epoch 20/30\n",
            "1500/1500 [==============================] - 4s 3ms/step - loss: 3.5467 - accuracy: 0.0985 - val_loss: 3.5870 - val_accuracy: 0.0995\n",
            "Epoch 21/30\n",
            "1500/1500 [==============================] - 4s 3ms/step - loss: 3.5467 - accuracy: 0.0985 - val_loss: 3.5870 - val_accuracy: 0.0995\n",
            "Epoch 22/30\n",
            "1500/1500 [==============================] - 4s 3ms/step - loss: 3.5467 - accuracy: 0.0985 - val_loss: 3.5870 - val_accuracy: 0.0995\n",
            "Epoch 23/30\n",
            "1500/1500 [==============================] - 4s 3ms/step - loss: 3.5467 - accuracy: 0.0985 - val_loss: 3.5870 - val_accuracy: 0.0995\n",
            "Epoch 24/30\n",
            "1500/1500 [==============================] - 4s 3ms/step - loss: 3.5467 - accuracy: 0.0985 - val_loss: 3.5870 - val_accuracy: 0.0995\n",
            "Epoch 25/30\n",
            "1500/1500 [==============================] - 4s 3ms/step - loss: 3.5467 - accuracy: 0.0985 - val_loss: 3.5870 - val_accuracy: 0.0995\n",
            "Epoch 26/30\n",
            "1500/1500 [==============================] - 4s 2ms/step - loss: 3.5467 - accuracy: 0.0985 - val_loss: 3.5870 - val_accuracy: 0.0995\n",
            "Epoch 27/30\n",
            "1500/1500 [==============================] - 4s 3ms/step - loss: 3.5467 - accuracy: 0.0985 - val_loss: 3.5870 - val_accuracy: 0.0995\n",
            "Epoch 28/30\n",
            "1500/1500 [==============================] - 4s 3ms/step - loss: 3.5467 - accuracy: 0.0985 - val_loss: 3.5870 - val_accuracy: 0.0995\n",
            "Epoch 29/30\n",
            "1500/1500 [==============================] - 4s 3ms/step - loss: 3.5467 - accuracy: 0.0985 - val_loss: 3.5870 - val_accuracy: 0.0995\n",
            "Epoch 30/30\n",
            "1500/1500 [==============================] - 4s 3ms/step - loss: 3.5467 - accuracy: 0.0985 - val_loss: 3.5870 - val_accuracy: 0.0995\n"
          ],
          "name": "stdout"
        },
        {
          "output_type": "execute_result",
          "data": {
            "text/plain": [
              "<tensorflow.python.keras.callbacks.History at 0x7fa017a5ff60>"
            ]
          },
          "metadata": {
            "tags": []
          },
          "execution_count": 8
        }
      ]
    },
    {
      "cell_type": "code",
      "metadata": {
        "id": "VAHZqjSCICNL"
      },
      "source": [
        ""
      ],
      "execution_count": null,
      "outputs": []
    },
    {
      "cell_type": "code",
      "metadata": {
        "id": "ZSzC3BErDAZc"
      },
      "source": [
        ""
      ],
      "execution_count": null,
      "outputs": []
    }
  ]
}